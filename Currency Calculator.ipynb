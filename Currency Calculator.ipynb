{
 "cells": [
  {
   "cell_type": "code",
   "execution_count": 89,
   "metadata": {},
   "outputs": [],
   "source": [
    "# loading the packages\n",
    "# requests provides us with the capabilities of sending an HTTP request to a server\n",
    "import requests\n",
    "import json # A useful library for JSON manipulation and pretty print"
   ]
  },
  {
   "cell_type": "code",
   "execution_count": 90,
   "metadata": {},
   "outputs": [],
   "source": [
    "# Define the web URL\n",
    "# web URL: the part of the URL common to all requests, not containing the parameters\n",
    "web_url = \"https://api.exchangeratesapi.io/latest\""
   ]
  },
  {
   "cell_type": "code",
   "execution_count": 91,
   "metadata": {},
   "outputs": [],
   "source": [
    "# We can make a GET request to this web url for API endpoint with requests.get\n",
    "response = requests.get(web_url)\n",
    "\n",
    "# This method returns the response from the server\n",
    "# We store this response in a variable for future data processing"
   ]
  },
  {
   "cell_type": "code",
   "execution_count": 92,
   "metadata": {},
   "outputs": [
    {
     "data": {
      "text/plain": [
       "200"
      ]
     },
     "execution_count": 92,
     "metadata": {},
     "output_type": "execute_result"
    }
   ],
   "source": [
    "# Checking if the request went through ok whether it is true or false i.e true = Success False = Not Success\n",
    "response.ok\n",
    "# Checking the status code of the response i.e 200 = Success or 400 = Error\n",
    "response.status_code"
   ]
  },
  {
   "cell_type": "code",
   "execution_count": 93,
   "metadata": {},
   "outputs": [
    {
     "data": {
      "text/plain": [
       "{'rates': {'CAD': 1.5527,\n",
       "  'HKD': 8.8718,\n",
       "  'ISK': 160.7,\n",
       "  'PHP': 56.584,\n",
       "  'DKK': 7.4465,\n",
       "  'HUF': 353.25,\n",
       "  'CZK': 26.587,\n",
       "  'AUD': 1.6293,\n",
       "  'RON': 4.8439,\n",
       "  'SEK': 10.3468,\n",
       "  'IDR': 16693.94,\n",
       "  'INR': 85.971,\n",
       "  'BRL': 6.0911,\n",
       "  'RUB': 81.0468,\n",
       "  'HRK': 7.5308,\n",
       "  'JPY': 122.25,\n",
       "  'THB': 36.037,\n",
       "  'CHF': 1.0783,\n",
       "  'SGD': 1.5884,\n",
       "  'PLN': 4.4688,\n",
       "  'BGN': 1.9558,\n",
       "  'TRY': 7.8568,\n",
       "  'CNY': 7.9975,\n",
       "  'NOK': 10.6275,\n",
       "  'NZD': 1.7397,\n",
       "  'ZAR': 18.9061,\n",
       "  'USD': 1.1444,\n",
       "  'MXN': 25.4759,\n",
       "  'ILS': 3.9244,\n",
       "  'GBP': 0.9054,\n",
       "  'KRW': 1373.55,\n",
       "  'MYR': 4.878},\n",
       " 'base': 'EUR',\n",
       " 'date': '2020-07-15'}"
      ]
     },
     "execution_count": 93,
     "metadata": {},
     "output_type": "execute_result"
    }
   ],
   "source": [
    "# Printing the content body of the response in regular format\n",
    "response.text\n",
    "# printing the content of the response in bytes format\n",
    "response.content\n",
    "# Requests has in-build method to directly convert the response to JSON format\n",
    "response.json()"
   ]
  },
  {
   "cell_type": "code",
   "execution_count": 94,
   "metadata": {},
   "outputs": [
    {
     "name": "stdout",
     "output_type": "stream",
     "text": [
      "{\n",
      "    \"rates\": {\n",
      "        \"CAD\": 1.5527,\n",
      "        \"HKD\": 8.8718,\n",
      "        \"ISK\": 160.7,\n",
      "        \"PHP\": 56.584,\n",
      "        \"DKK\": 7.4465,\n",
      "        \"HUF\": 353.25,\n",
      "        \"CZK\": 26.587,\n",
      "        \"AUD\": 1.6293,\n",
      "        \"RON\": 4.8439,\n",
      "        \"SEK\": 10.3468,\n",
      "        \"IDR\": 16693.94,\n",
      "        \"INR\": 85.971,\n",
      "        \"BRL\": 6.0911,\n",
      "        \"RUB\": 81.0468,\n",
      "        \"HRK\": 7.5308,\n",
      "        \"JPY\": 122.25,\n",
      "        \"THB\": 36.037,\n",
      "        \"CHF\": 1.0783,\n",
      "        \"SGD\": 1.5884,\n",
      "        \"PLN\": 4.4688,\n",
      "        \"BGN\": 1.9558,\n",
      "        \"TRY\": 7.8568,\n",
      "        \"CNY\": 7.9975,\n",
      "        \"NOK\": 10.6275,\n",
      "        \"NZD\": 1.7397,\n",
      "        \"ZAR\": 18.9061,\n",
      "        \"USD\": 1.1444,\n",
      "        \"MXN\": 25.4759,\n",
      "        \"ILS\": 3.9244,\n",
      "        \"GBP\": 0.9054,\n",
      "        \"KRW\": 1373.55,\n",
      "        \"MYR\": 4.878\n",
      "    },\n",
      "    \"base\": \"EUR\",\n",
      "    \"date\": \"2020-07-15\"\n",
      "}\n"
     ]
    }
   ],
   "source": [
    "#.dumps() has options to make the string more readable\n",
    "# We can choose the number of spaces to be used as indentation\n",
    "# In order to visualize these changes, we need to print the string\n",
    "print(json.dumps(response.json(), indent=4))"
   ]
  },
  {
   "cell_type": "code",
   "execution_count": 95,
   "metadata": {},
   "outputs": [
    {
     "name": "stdout",
     "output_type": "stream",
     "text": [
      "{\n",
      "    \"rates\": {\n",
      "        \"CAD\": 1.5527,\n",
      "        \"HKD\": 8.8718,\n",
      "        \"ISK\": 160.7,\n",
      "        \"PHP\": 56.584,\n",
      "        \"DKK\": 7.4465,\n",
      "        \"HUF\": 353.25,\n",
      "        \"CZK\": 26.587,\n",
      "        \"AUD\": 1.6293,\n",
      "        \"RON\": 4.8439,\n",
      "        \"SEK\": 10.3468,\n",
      "        \"IDR\": 16693.94,\n",
      "        \"INR\": 85.971,\n",
      "        \"BRL\": 6.0911,\n",
      "        \"RUB\": 81.0468,\n",
      "        \"HRK\": 7.5308,\n",
      "        \"JPY\": 122.25,\n",
      "        \"THB\": 36.037,\n",
      "        \"CHF\": 1.0783,\n",
      "        \"SGD\": 1.5884,\n",
      "        \"PLN\": 4.4688,\n",
      "        \"BGN\": 1.9558,\n",
      "        \"TRY\": 7.8568,\n",
      "        \"CNY\": 7.9975,\n",
      "        \"NOK\": 10.6275,\n",
      "        \"NZD\": 1.7397,\n",
      "        \"ZAR\": 18.9061,\n",
      "        \"USD\": 1.1444,\n",
      "        \"MXN\": 25.4759,\n",
      "        \"ILS\": 3.9244,\n",
      "        \"GBP\": 0.9054,\n",
      "        \"KRW\": 1373.55,\n",
      "        \"MYR\": 4.878\n",
      "    },\n",
      "    \"base\": \"EUR\",\n",
      "    \"date\": \"2020-07-15\"\n",
      "}\n"
     ]
    }
   ],
   "source": [
    "print(json.dumps(response.json(), indent=4))"
   ]
  },
  {
   "cell_type": "code",
   "execution_count": 98,
   "metadata": {},
   "outputs": [
    {
     "data": {
      "text/plain": [
       "dict_keys(['rates', 'base', 'date'])"
      ]
     },
     "execution_count": 98,
     "metadata": {},
     "output_type": "execute_result"
    }
   ],
   "source": [
    "response.json().keys()"
   ]
  },
  {
   "cell_type": "code",
   "execution_count": 99,
   "metadata": {},
   "outputs": [
    {
     "data": {
      "text/plain": [
       "'https://api.exchangeratesapi.io/latest?symbols=USD&base=INR'"
      ]
     },
     "execution_count": 99,
     "metadata": {},
     "output_type": "execute_result"
    }
   ],
   "source": [
    "# Request parameters are added to the URL after a question mark '?'\n",
    "# In this case, we request for the exchange rates of the US Dollar (USD) and indian Rupees only\n",
    "param_url = web_url + \"?symbols=USD&base=INR\"\n",
    "param_url"
   ]
  },
  {
   "cell_type": "code",
   "execution_count": 100,
   "metadata": {},
   "outputs": [
    {
     "data": {
      "text/plain": [
       "200"
      ]
     },
     "execution_count": 100,
     "metadata": {},
     "output_type": "execute_result"
    }
   ],
   "source": [
    "# Making a request to the server with the new URL, containing the parameters\n",
    "response = requests.get(param_url)\n",
    "response.status_code"
   ]
  },
  {
   "cell_type": "code",
   "execution_count": 101,
   "metadata": {},
   "outputs": [
    {
     "data": {
      "text/plain": [
       "{'rates': {'USD': 0.0133114655}, 'base': 'INR', 'date': '2020-07-15'}"
      ]
     },
     "execution_count": 101,
     "metadata": {},
     "output_type": "execute_result"
    }
   ],
   "source": [
    "# Saving the response data\n",
    "data = response.json()\n",
    "data"
   ]
  },
  {
   "cell_type": "code",
   "execution_count": 102,
   "metadata": {},
   "outputs": [
    {
     "data": {
      "text/plain": [
       "'INR'"
      ]
     },
     "execution_count": 102,
     "metadata": {},
     "output_type": "execute_result"
    }
   ],
   "source": [
    "# 'data' is a dictionary\n",
    "data['base']"
   ]
  },
  {
   "cell_type": "code",
   "execution_count": 103,
   "metadata": {},
   "outputs": [
    {
     "data": {
      "text/plain": [
       "'2020-07-15'"
      ]
     },
     "execution_count": 103,
     "metadata": {},
     "output_type": "execute_result"
    }
   ],
   "source": [
    "data['date']"
   ]
  },
  {
   "cell_type": "code",
   "execution_count": 82,
   "metadata": {},
   "outputs": [
    {
     "data": {
      "text/plain": [
       "{'USD': 0.0133114655}"
      ]
     },
     "execution_count": 82,
     "metadata": {},
     "output_type": "execute_result"
    }
   ],
   "source": [
    "data['rates']"
   ]
  },
  {
   "cell_type": "code",
   "execution_count": 104,
   "metadata": {},
   "outputs": [],
   "source": [
    "param_url = web_url + \"?symbols=GBP&base=USD\""
   ]
  },
  {
   "cell_type": "code",
   "execution_count": 105,
   "metadata": {},
   "outputs": [
    {
     "data": {
      "text/plain": [
       "{'rates': {'GBP': 0.7911569381}, 'base': 'USD', 'date': '2020-07-15'}"
      ]
     },
     "execution_count": 105,
     "metadata": {},
     "output_type": "execute_result"
    }
   ],
   "source": [
    "data = requests.get(param_url).json()\n",
    "data"
   ]
  },
  {
   "cell_type": "code",
   "execution_count": 106,
   "metadata": {},
   "outputs": [
    {
     "name": "stdout",
     "output_type": "stream",
     "text": [
      "{\n",
      "    \"rates\": {\n",
      "        \"USD\": 0.0133114655\n",
      "    },\n",
      "    \"base\": \"INR\",\n",
      "    \"date\": \"2020-07-15\"\n",
      "}\n"
     ]
    }
   ],
   "source": [
    "# Pretty printing the data\n",
    "data = response.json()\n",
    "print(json.dumps(data, indent=4))"
   ]
  },
  {
   "cell_type": "code",
   "execution_count": 107,
   "metadata": {},
   "outputs": [],
   "source": [
    "web_url = \"https://api.exchangeratesapi.io\""
   ]
  },
  {
   "cell_type": "code",
   "execution_count": 108,
   "metadata": {},
   "outputs": [
    {
     "name": "stdout",
     "output_type": "stream",
     "text": [
      "{\n",
      "    \"rates\": {\n",
      "        \"USD\": 0.0133114655\n",
      "    },\n",
      "    \"base\": \"INR\",\n",
      "    \"date\": \"2020-07-15\"\n",
      "}\n"
     ]
    }
   ],
   "source": [
    "# Pretty printing the data\n",
    "data = response.json()\n",
    "print(json.dumps(data, indent=4))"
   ]
  },
  {
   "cell_type": "code",
   "execution_count": 114,
   "metadata": {},
   "outputs": [
    {
     "name": "stdout",
     "output_type": "stream",
     "text": [
      "Please enter the date (in the format 'yyyy-mm-dd' or 'latest'): 2020-07-15\n",
      "Convert from (currency): USD\n",
      "Convert to (currency): INR\n",
      "How much USD do you want to convert: 1\n",
      "\n",
      "1.0 USD is equal to 75.1232086683 INR, based upon exchange rates on 2020-07-15\n"
     ]
    }
   ],
   "source": [
    "# CURRENCY CALCULATOR\n",
    "date = input(\"Please enter the date (in the format 'yyyy-mm-dd' or 'latest'): \")\n",
    "base = input(\"Convert from (currency): \")\n",
    "curr = input(\"Convert to (currency): \")\n",
    "quan = float(input(\"How much {} do you want to convert: \".format(base)))\n",
    "\n",
    "# Constructing the URL based on the user parameters and sending a request to the server\n",
    "url = web_url + \"/\" + date + \"?base=\" + base + \"&symbols=\" + curr\n",
    "response = requests.get(url)\n",
    "\n",
    "# Displaying the error message, if something went wrong\n",
    "if(response.ok is False):\n",
    "    print(\"\\nError {}:\".format(response.status_code))\n",
    "    print(response.json()['error'])\n",
    "\n",
    "else:\n",
    "    data = response.json()\n",
    "    rate = data['rates'][curr]\n",
    "    \n",
    "    result = quan*rate\n",
    "    \n",
    "    print(\"\\n{0} {1} is equal to {2} {3}, based upon exchange rates on {4}\".format(quan,base,result,curr,data['date']))\n"
   ]
  },
  {
   "cell_type": "code",
   "execution_count": null,
   "metadata": {},
   "outputs": [],
   "source": []
  }
 ],
 "metadata": {
  "kernelspec": {
   "display_name": "Python 3",
   "language": "python",
   "name": "python3"
  },
  "language_info": {
   "codemirror_mode": {
    "name": "ipython",
    "version": 3
   },
   "file_extension": ".py",
   "mimetype": "text/x-python",
   "name": "python",
   "nbconvert_exporter": "python",
   "pygments_lexer": "ipython3",
   "version": "3.7.6"
  }
 },
 "nbformat": 4,
 "nbformat_minor": 2
}
